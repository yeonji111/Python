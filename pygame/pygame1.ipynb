{
 "cells": [
  {
   "cell_type": "code",
   "execution_count": 1,
   "id": "8d28527c-247c-4584-b6f2-ca9df4a40438",
   "metadata": {},
   "outputs": [
    {
     "name": "stdout",
     "output_type": "stream",
     "text": [
      "pygame 2.5.2 (SDL 2.28.3, Python 3.11.7)\n",
      "Hello from the pygame community. https://www.pygame.org/contribute.html\n"
     ]
    },
    {
     "ename": "SystemExit",
     "evalue": "",
     "output_type": "error",
     "traceback": [
      "An exception has occurred, use %tb to see the full traceback.\n",
      "\u001b[1;31mSystemExit\u001b[0m\n"
     ]
    },
    {
     "name": "stderr",
     "output_type": "stream",
     "text": [
      "C:\\tools\\anaconda3\\Lib\\site-packages\\IPython\\core\\interactiveshell.py:3561: UserWarning: To exit: use 'exit', 'quit', or Ctrl-D.\n",
      "  warn(\"To exit: use 'exit', 'quit', or Ctrl-D.\", stacklevel=1)\n"
     ]
    }
   ],
   "source": [
    "# pygame\n",
    "import pygame as pg\n",
    "import sys\n",
    "import time\n",
    "import random\n",
    "from pygame.locals import *     # QUIT, KEYDOWN, K_LEFT, K_RIGHT, K_ENTER 같은 상수들 포함\n",
    "\n",
    "WINDOW_WIDTH = 800\n",
    "WINDOW_HEIGHT = 600\n",
    "WHITE = (255,255,255)   # 튜플\n",
    "BLACK = (0,0,0)\n",
    "\n",
    "FPS = 30 # frame per second    10, 30, 60 선택. 100이하에서 아무렇게나.\n",
    "pg.init()  # 초기화\n",
    "pg.display.set_caption(\"Hello World\") # 창 제목\n",
    "\n",
    "window = pg.display.set_mode( (WINDOW_WIDTH,WINDOW_HEIGHT), 0, 32 )  # 윈도우 크기\n",
    "clock=pg.time.Clock()\n",
    "\n",
    "font = pg.font.Font(\"NanumGothic.ttf\", 70)   # 폰트랑 글짜 크기\n",
    "hello = font.render(\"Hello World !!!!!\", 1, BLACK)     # 글자를 객체로\n",
    "hello_rect = hello.get_rect()                          # 객체의 사각형 객체\n",
    "hello_rect.center = (WINDOW_WIDTH/2, WINDOW_HEIGHT/2)  # 객체 위치 지정\n",
    "\n",
    "background_int = 0\n",
    "\n",
    "\n",
    "\n",
    "while True : # 매순간 실행\n",
    "    # 이벤트\n",
    "    for event in pg.event.get() :     # 모든 이벤트를 검사\n",
    "        if event.type == QUIT : # 종료 이벤트 (x버튼) 누르면 꺼짐\n",
    "            pg.quit()\n",
    "            sys.exit()\n",
    "            \n",
    "    background_int += 1\n",
    "   \n",
    "    if background_int %2 == 0:\n",
    "       window.blit(hello, hello_rect)\n",
    "    else : \n",
    "         window.fill(WHITE)\n",
    "    \n",
    "    pg.display.update()    # display 에 변경된 사항을 다시 업데이트. 보통 while True문 마지막 쯤에 항상 있음 \n",
    "    clock.tick(2)        # FPS만큼 1초에 몇 번 화면 출력\n",
    "    \n"
   ]
  }
 ],
 "metadata": {
  "kernelspec": {
   "display_name": "Python 3 (ipykernel)",
   "language": "python",
   "name": "python3"
  },
  "language_info": {
   "codemirror_mode": {
    "name": "ipython",
    "version": 3
   },
   "file_extension": ".py",
   "mimetype": "text/x-python",
   "name": "python",
   "nbconvert_exporter": "python",
   "pygments_lexer": "ipython3",
   "version": "3.11.7"
  }
 },
 "nbformat": 4,
 "nbformat_minor": 5
}

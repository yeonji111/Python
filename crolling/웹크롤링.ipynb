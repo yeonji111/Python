{
 "cells": [
  {
   "cell_type": "code",
   "execution_count": null,
   "id": "60fe983e-e2fc-48d5-b16d-327041bc11d5",
   "metadata": {},
   "outputs": [],
   "source": [
    "# HTML에서 태그 선택하기\n",
    "# CSS selector\n",
    "# 태그 자식태그\n",
    "# 태그 > 자손태그       자식,자손 반대로 했을수도\n",
    "# .클래스 , #ID\n",
    "# 태그[속성1='속성값1']\n",
    "# 선택되는게 한개인지, 여러개인지, 없는지 구별 잘하기\n",
    "\n"
   ]
  }
 ],
 "metadata": {
  "kernelspec": {
   "display_name": "Python 3 (ipykernel)",
   "language": "python",
   "name": "python3"
  },
  "language_info": {
   "codemirror_mode": {
    "name": "ipython",
    "version": 3
   },
   "file_extension": ".py",
   "mimetype": "text/x-python",
   "name": "python",
   "nbconvert_exporter": "python",
   "pygments_lexer": "ipython3",
   "version": "3.11.7"
  }
 },
 "nbformat": 4,
 "nbformat_minor": 5
}

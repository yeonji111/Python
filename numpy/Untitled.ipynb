{
 "cells": [
  {
   "cell_type": "code",
   "execution_count": null,
   "id": "7ed56586-56ab-44e6-9a93-45762ce11252",
   "metadata": {},
   "outputs": [],
   "source": [
    "# numpy\n",
    "# int float str Bool    list, tuple ,set ,dictionary\n",
    "# 파이썬에서 배열의 장점때문에 배열을 사용하고 싶은데, 기본적으로 없음\n",
    "# numpy 라이브러리     내부적으로는 C처럼 구현되어있다.(=빠르다)\n",
    "\n",
    "# 학습목표\n",
    "# 1. 배열과 리스트 차이\n",
    "# 2. numpy 기본 사용법 ( 조금 많음. )\n",
    "# 3. numpy를 사용해서 원하는 배열을 만들 수 있다.\n",
    "# 4. 랜덤배열만들기 + 통계내기\n",
    "\n",
    "# 중요한거 몇개는 외우는데(많이 보다보면 외워질겁니다.),  내용이 이해는 가야됩니다.\n",
    "\n",
    "# np.array 인덱싱, 슬라이싱 + 배열인덱싱\n",
    "# np.ones, np.zeros\n",
    "# np.reshape, flatten\n",
    "# stack\n",
    "# 배열연산 +(말고 여러가지)     행개수 or 열개수가 같으면 자동으로 데이터 생성해서 연산\n",
    "# 통계 (var,min,max,mean,argmin,argmax,sort, median, std ...)\n",
    "\n",
    "# 04.12 랜덤"
   ]
  },
  {
   "cell_type": "code",
   "execution_count": 2,
   "id": "c07ed21c-afa4-4888-83bd-e5de2b8c4551",
   "metadata": {},
   "outputs": [
    {
     "name": "stdout",
     "output_type": "stream",
     "text": [
      "[0 1 2 3 4 5]\n",
      "list타입 <class 'list'>\n",
      "arr타입 <class 'numpy.ndarray'>\n"
     ]
    }
   ],
   "source": [
    "# 배열 선언 \n",
    "import numpy as np\n",
    "list = [0,1,2,3,4,5]\n",
    "arr = np.array(list)\n",
    "print(arr)\n",
    "print(\"list타입\" , type(list))\n",
    "print(\"arr타입\" , type(arr) )\n",
    "\n"
   ]
  },
  {
   "cell_type": "code",
   "execution_count": 41,
   "id": "2562514b-c185-4c1f-9035-47d0c79a9709",
   "metadata": {},
   "outputs": [
    {
     "name": "stdout",
     "output_type": "stream",
     "text": [
      "[ 0  2  4  6  8 10 12 14 16 18]\n",
      "\n",
      "[10 21 32]\n",
      "[ 0 20 60]\n",
      "[False False  True]\n",
      "[False  True  True]\n",
      "[False  True  True]\n"
     ]
    }
   ],
   "source": [
    "list = [0,1,2,3,4,5,6,7,8,9]\n",
    "arr = np.array(list)\n",
    "\n",
    "print( arr * 2)\n",
    "print()\n",
    "a = np.array([0,1,2])\n",
    "b = np.array([10,20,30])\n",
    "print(a+b)       # 기본적으로는 배열의 크기가 같으면 산술연산 가능\n",
    "print(a*b)\n",
    "print(a==2)\n",
    "print(b>10)\n",
    "print(( a==2 ) | (b>10) )     # 파이썬에서 논리연산은 and/or 이지만 numpy에서 논리연산은 &/| 을 사용해야한다."
   ]
  },
  {
   "cell_type": "code",
   "execution_count": null,
   "id": "026c91b7-7092-455e-a7b3-ac9c0141b630",
   "metadata": {},
   "outputs": [],
   "source": [
    "a= np.array([ [0,1,2],[3,4,5]   ])  #이차원 배열 행렬     [2] x [3] 행렬\n",
    "print( len(a) ) # 2\n",
    "print (len(a[0])) # 3\n",
    "\n",
    "a=np.array( [ [ [0,1], [2,3], [3,4] ], [ [5,6],[7,8],[9,10] ] ])    # 삼차원 배열 [2][3][2] 행렬\n",
    "print(len(a))\n",
    "print(len(a[0]))\n",
    "print(len(a[0][0]))"
   ]
  },
  {
   "cell_type": "code",
   "execution_count": 10,
   "id": "5da65447-fcdf-44cc-b0d2-8ba967d82bbb",
   "metadata": {},
   "outputs": [
    {
     "name": "stdout",
     "output_type": "stream",
     "text": [
      "[0 1 2 3 4]\n",
      "[1]\n",
      "[0 1 2 3 4]\n",
      "[3 4]\n",
      "[2]\n",
      "--------------\n",
      "[0 1 2 3]\n",
      "[0] [4] [8]\n",
      "[2 3] [6 7] [10 11]\n",
      "[4 5] [8 9]\n",
      "3\n",
      "7\n",
      "[[0 1]\n",
      " [4 5]\n",
      " [8 9]]\n",
      "[[ 0  2]\n",
      " [ 4  6]\n",
      " [ 8 10]]\n"
     ]
    }
   ],
   "source": [
    "# 인덱싱, 슬라이싱        \n",
    "# [인덱스 , 길이]\n",
    "a=np.array( [0,1,2,3,4] )\n",
    "print(a[  :  ])  # 전체\n",
    "print(a[1 : 2])  # 추측 : 1\n",
    "print(a[ : 5])   # 추측 : 0 1 2 3 4 \n",
    "print(a[ 3: ])   # 추측 : 3 4\n",
    "print(a[ 2:-2 ]) # 추측 : 2\n",
    "\n",
    "\n",
    "print(\"--------------\")\n",
    "b=np.array([[0,1,2,3],[4,5,6,7],[8,9,10,11]])    # [3][4] 이차원배열\n",
    "print(b[0, :] )  # [0 1 2 3]\n",
    "\n",
    "#[0] [4] [8]\n",
    "print(b[0][0:1], b[1][:1], b[2][:1])\n",
    "\n",
    "#[2,3] [6,7] [10,11]\n",
    "print(b[0][2:4], b[1][2:4],b[2][2:4])\n",
    "# [4,5] [8,9]\n",
    "print(b[1][0:2], b[2][0:2])\n",
    "\n",
    "# [0] [-1] ==> 결과는? // 3\n",
    "print(b[0][-1])\n",
    "\n",
    "# 7을 얻고 싶으면 \n",
    "print(b[1][3])\n",
    "\n",
    "print(b [ : , : 2])\n",
    "\n",
    "print(b [ : , :: 2  ])  # 시작:끝 step -> 짝수만 출력"
   ]
  },
  {
   "cell_type": "code",
   "execution_count": 34,
   "id": "18f788db-3a6a-4361-9ef8-a1b416942eb3",
   "metadata": {},
   "outputs": [
    {
     "name": "stdout",
     "output_type": "stream",
     "text": [
      "[ 0  3  9 15 21]\n",
      "[[ 1  2]\n",
      " [ 1  2]\n",
      " [ 1  2]\n",
      " [ 5  6]\n",
      " [ 5  6]\n",
      " [ 9 10]]\n",
      "[ True False  True False  True False  True False  True False  True]\n",
      "[ 0  2  4  6  8 10]\n",
      "[0 3 6 9]\n",
      "[6]\n"
     ]
    }
   ],
   "source": [
    "# 배열 인덱싱 : 배열을 배열로 인덱싱\n",
    "a=np.array([0,1,3,6,9,12,15,18,21,24])\n",
    "idx = np.array( [0,2,4,6,8] )\n",
    "print(a[idx] )\n",
    "\n",
    "a=np.array( [ [0,1,2,3], [4,5,6,7], [8,9,10,11] ])  # [3][4]\n",
    "idx = np.array ( [ 0,0,0,1,1,2 ])\n",
    "print(a[idx, 1:3])  # [1 2] [1 2] [1 2] [5 6] [5 6] [9 10]\n",
    "\n",
    "a=np.array( [0,1,2,3,4,5,6,7,8,9,10] )\n",
    "print(a%2 ==0) # [ True False  True False  True False..]\n",
    "print (a[a%2==0] )  # 2의 배수 0제외\n",
    "print(a[a%3==0])    # 3의 배수 0제외\n",
    "\n",
    "print(a[(a%2==0) & (a%3==0) & (a!=0)])  # 6의 배수"
   ]
  },
  {
   "cell_type": "code",
   "execution_count": 45,
   "id": "97cb9b70-730b-4025-a070-d681d178c65b",
   "metadata": {},
   "outputs": [
    {
     "name": "stdout",
     "output_type": "stream",
     "text": [
      "<class 'numpy.intc'>\n",
      "[1 2 3]\n",
      "[1.1 1.2 1.3]\n",
      "<class 'numpy.float32'>\n",
      "------------\n",
      "[ inf -inf  nan]\n",
      "-inf\n"
     ]
    }
   ],
   "source": [
    "# 배열의 타입\n",
    "# 배열 안의 타입 알아서 잘 판단합니다.\n",
    "a = np.array( [1,2,3], dtype='i' ) # dtype='i' -> int타입의 데이터만 넣겠다는 의미\n",
    "print(type(a[0]))\n",
    "print(a)\n",
    "b=np.array([1.1, 1.2, 1.3], dtype='f') # dtype='f' -> float타입의 데이터만 넣겠다는 의미   #i,f,s,u 다 알필요없습니다. 안 써요.\n",
    "print(b)\n",
    "print(type(b[0]))\n",
    "\n",
    "print(\"------------\")\n",
    "\n",
    "np.seterr( divide ='ignore', invalid= 'ignore' )\n",
    "a=np.array( [1,-1,0] ) \n",
    "b=np.array( [0,0,0] )\n",
    "c=a/b\n",
    "print(c)  # inf = 무한\n",
    "print( np.log(0) )\n"
   ]
  },
  {
   "cell_type": "code",
   "execution_count": 59,
   "id": "bdc9b537-1f53-4172-a0fd-a74a58160799",
   "metadata": {},
   "outputs": [
    {
     "name": "stdout",
     "output_type": "stream",
     "text": [
      "[3]\n",
      "[[0. 0. 0. 0.]\n",
      " [0. 0. 0. 0.]\n",
      " [0. 0. 0. 0.]]\n",
      "[[1. 1. 1. 1.]\n",
      " [1. 1. 1. 1.]\n",
      " [1. 1. 1. 1.]]\n",
      "[5 6 7 8 9]\n"
     ]
    }
   ],
   "source": [
    "# 빈 배열 생성\n",
    "empty = np.empty( (4,3))\n",
    "# print(empty)    # 4X3인 빈 배열 생성  int[][] arr=new int[4][3]   -> 출력되는 값들은 메모리주소(값이 들어가기전까지는 의미없음)\n",
    "\n",
    "# 배열 생성 \n",
    "a=np.arange(10)  # 0 ~ 9 배열\n",
    "b=np.zeros(10)  # 0, 0, 0, 0, 0, 0, 0, 0, 0, 0 \n",
    "c=np.ones(10)  # 1,1,1,1,1,1,1,1,1,1\n",
    "\n",
    "a1=np.arange(3,4)   # 3~4까지 함수.     3X4를 만들고 싶다면 reshape함수 사용\n",
    "b1=np.zeros( (3,4) )    # 3X4 배열 만드는 함수\n",
    "c1=np.ones( (3,4) )     # 3X4 배열 만드는 함수\n",
    "\n",
    "print(a1)\n",
    "print(b1)\n",
    "print(c1)\n",
    "\n",
    "\n",
    "print(np.arange(5,10))   # arnage는 배열 내 인덱스 범위 지정\n"
   ]
  },
  {
   "cell_type": "code",
   "execution_count": 70,
   "id": "3e9c59c7-87f9-4f8f-ac93-9d5a36386577",
   "metadata": {},
   "outputs": [
    {
     "name": "stdout",
     "output_type": "stream",
     "text": [
      "[  0.  25.  50.  75. 100.]\n",
      "[  0  25  50  75 100]\n",
      "[ 1.25892541  1.58489319  1.99526231  2.51188643  3.16227766  3.98107171\n",
      "  5.01187234  6.30957344  7.94328235 10.        ]\n"
     ]
    }
   ],
   "source": [
    "# 배열생성 어려운거\n",
    "print(np.linspace(0,100,5))    # 0부터 100까지 5등분\n",
    "print(np.arange(0,101,25))\n",
    "print(np.logspace(0.1,1,10))   # 0.1부터 1까지 10등분한 것의 로그값들"
   ]
  },
  {
   "cell_type": "code",
   "execution_count": 84,
   "id": "4aa7fd57-cd07-48f6-b5ec-689afb99aad4",
   "metadata": {},
   "outputs": [
    {
     "name": "stdout",
     "output_type": "stream",
     "text": [
      "[[ 0  1  2  3]\n",
      " [ 4  5  6  7]\n",
      " [ 8  9 10 11]]\n",
      "[[ 0  4  8]\n",
      " [ 1  5  9]\n",
      " [ 2  6 10]\n",
      " [ 3  7 11]]\n",
      "-----------------------\n",
      "-----------------------\n",
      "[ 0  1  2  3  4  5  6  7  8  9 10 11]\n",
      "[100   1   2   3   4   5   6   7   8   9  10  11]\n"
     ]
    }
   ],
   "source": [
    "# 배열의 변경\n",
    "a=np.arange(12).reshape(3,4) # 0~11까지의 일차원배열을 3X4배열(이차원)로 재구성\n",
    "print(a)\n",
    "print(a.T)  # 4X3 행렬 구성 .T가 붙으면 행과 열의 위치를 바꿈\n",
    "print(\"-----------------------\")\n",
    "# print(np.arange(12).reshape(6,2)) # 6X2배열로 재구성\n",
    "\n",
    "print(\"-----------------------\")\n",
    "# b=np.arange(16).reshape(2,2,2,2)\n",
    "# print(b)\n",
    "\n",
    "a_flatten=a.flatten() #복사  # 이차원배열을 일차원으로\n",
    "a_ravel=a.ravel()     #참조   # flatten()과 비슷하지만 차이점은 복사 참조 \n",
    "\n",
    "a[0][0] =100\n",
    "print(a_flatten)  \n",
    "print(a_ravel)\n"
   ]
  },
  {
   "cell_type": "code",
   "execution_count": 97,
   "id": "c0959b6a-da99-4615-b083-c4fef1cdbfdc",
   "metadata": {},
   "outputs": [
    {
     "name": "stdout",
     "output_type": "stream",
     "text": [
      "[[0. 0.]\n",
      " [0. 0.]]\n",
      "[[1. 1. 1.]\n",
      " [1. 1. 1.]]\n",
      "hstack [[0. 0. 1. 1. 1.]\n",
      " [0. 0. 1. 1. 1.]]\n",
      "vstack [[0. 0. 0.]\n",
      " [0. 0. 0.]\n",
      " [1. 1. 1.]\n",
      " [1. 1. 1.]\n",
      " [1. 1. 1.]\n",
      " [1. 1. 1.]]\n",
      "dstack [[[0. 1.]\n",
      "  [0. 1.]\n",
      "  [0. 1.]\n",
      "  [0. 1.]]\n",
      "\n",
      " [[0. 1.]\n",
      "  [0. 1.]\n",
      "  [0. 1.]\n",
      "  [0. 1.]]\n",
      "\n",
      " [[0. 1.]\n",
      "  [0. 1.]\n",
      "  [0. 1.]\n",
      "  [0. 1.]]]\n"
     ]
    }
   ],
   "source": [
    "# 배열연결\n",
    "# stack : stack(연결기준 설정가능), vstack(열), hstack(행), dstack(가장 마지막 차원)\n",
    "a0=np.zeros((2,2))\n",
    "a1=np.ones((2,3))\n",
    "\n",
    "print(a0)\n",
    "print(a1)\n",
    "print(\"hstack\", np.hstack([a0,a1])) # 2 X 5(2+3)\n",
    "\n",
    "b0=np.zeros((2,3))\n",
    "b1=np.ones((4,3))\n",
    "print(\"vstack\", np.vstack([b0,b1]))  # 6(2+4) X 3\n",
    "\n",
    "c0 = np.zeros((3,4))\n",
    "c1 = np.ones((3,4))   # 행렬 개수 같음\n",
    "print(\"dstack\", np.dstack([c0,c1])) # 행렬길이가 같을때 안쪽에 차원이 증가.  3X4X2 배열이 된다."
   ]
  },
  {
   "cell_type": "code",
   "execution_count": 98,
   "id": "f9b3962b-63bc-4d23-928e-db8c939dd995",
   "metadata": {},
   "outputs": [],
   "source": [
    "#배열 연산    배열끼리 + * 등등 벡터연산은 for문보다 빠릅니다."
   ]
  },
  {
   "cell_type": "code",
   "execution_count": 4,
   "id": "973fcd9a-f7ab-4caa-8895-153a11b9fa77",
   "metadata": {},
   "outputs": [
    {
     "name": "stdout",
     "output_type": "stream",
     "text": [
      "[10000 10002 10004 ... 29994 29996 29998]\n",
      "CPU times: total: 0 ns\n",
      "Wall time: 7.28 ms\n"
     ]
    }
   ],
   "source": [
    "%%time   \n",
    "x=np.arange(0,10000)\n",
    "y=np.arange(10000,20000)\n",
    "z=np.empty_like(x)\n",
    "for i in range(10000):\n",
    "    z[i]=x[i]+y[i]\n",
    "print(z)"
   ]
  },
  {
   "cell_type": "code",
   "execution_count": 5,
   "id": "81199f5d-cb9e-420a-8379-dca6f3099bef",
   "metadata": {},
   "outputs": [
    {
     "name": "stdout",
     "output_type": "stream",
     "text": [
      "[10000 10002 10004 ... 29994 29996 29998]\n",
      "CPU times: total: 0 ns\n",
      "Wall time: 0 ns\n"
     ]
    }
   ],
   "source": [
    "%%time   \n",
    "x=np.arange(0,10000)\n",
    "y=np.arange(10000,20000)\n",
    "z=x+y\n",
    "print(z)"
   ]
  },
  {
   "cell_type": "code",
   "execution_count": 15,
   "id": "44adb8ee-0211-4adc-b9e4-6ec5c0e62364",
   "metadata": {},
   "outputs": [
    {
     "name": "stdout",
     "output_type": "stream",
     "text": [
      "x [0 1 2 3 4]\n",
      "y [1 1 1 1 1]\n",
      "[1 2 3 4 5]\n",
      "----------------\n",
      "[[0 1 2]\n",
      " [1 2 3]\n",
      " [2 3 4]\n",
      " [3 4 5]\n",
      " [4 5 6]]\n",
      "[[0]\n",
      " [1]\n",
      " [2]\n",
      " [3]\n",
      " [4]]\n",
      "[[ 0  1  2]\n",
      " [ 2  3  4]\n",
      " [ 4  5  6]\n",
      " [ 6  7  8]\n",
      " [ 8  9 10]]\n",
      "----------------\n",
      "[[0 2 4]\n",
      " [1 3 5]\n",
      " [2 4 6]\n",
      " [3 5 7]\n",
      " [4 6 8]]\n"
     ]
    }
   ],
   "source": [
    "x=np.arange(5)\n",
    "y=np.ones_like(x)   # 배열이 들어가면 같은 크기의 1로 만든 배열\n",
    "print(\"x\", x)\n",
    "print(\"y\", y)\n",
    "print(x+y)\n",
    "\n",
    "print(\"----------------\")\n",
    "a=np.vstack( [range(7)[i : i+3] for i in range(5)    ] )\n",
    "print(a)\n",
    "\n",
    "b=np.array( [[0],[1],[2],[3],[4]] )\n",
    "print(b)\n",
    "print(a+b)  # 행 개수만 맞으면 빈자리는 0으로 자동으로 채우고 해당 행끼리 더함\n",
    "\n",
    "print(\"----------------\")\n",
    "c=np.arange(3)      # c = [0 1 2]\n",
    "print(a+c)          # c = [[0 1 2][0 1 2][0 1 2][0 1 2][0 1 2]]\n",
    "                    # a =[[0 1 2][1 2 3][2 3 4][3 4 5][4 5 6]]\n",
    "\n"
   ]
  },
  {
   "cell_type": "code",
   "execution_count": 26,
   "id": "a8bf20dd-5a0a-4729-9d48-9f5f3db65404",
   "metadata": {},
   "outputs": [
    {
     "name": "stdout",
     "output_type": "stream",
     "text": [
      "[1 2 3 4 5]\n",
      "1 0 5 4 15 3.0\n",
      "3.0 1.4142135623730951 2.0\n",
      "1.0 2.0 4.0\n"
     ]
    }
   ],
   "source": [
    "# 통계 min,max,std,mean,var\n",
    "x= np.arange(1,6)\n",
    "print(x)\n",
    "\n",
    "print(x.min(),x.argmin(), x.max(), x.argmax(), x.sum(), x.mean())\n",
    "# 최소값, 최소값이 있는 인덱스, 최댓값, 최댓값이 있는 인덱스, 합, 평균\n",
    "\n",
    "print(np.median(x), np.std(x),np.var(x) )  \n",
    "# 중앙값, 표준편차, 분산\n",
    "\n",
    "print(np.percentile(x, 0), np.percentile(x,25), np.percentile(x,75))\n",
    "# 사분위수,  25%에 해당하는 부분, 75%에 해당하는 부분"
   ]
  },
  {
   "cell_type": "code",
   "execution_count": 32,
   "id": "df2d8480-57c3-4d84-98df-17ac5ff40efb",
   "metadata": {},
   "outputs": [
    {
     "name": "stdout",
     "output_type": "stream",
     "text": [
      "12\n",
      "[6 6]\n",
      "[2 4 6]\n"
     ]
    }
   ],
   "source": [
    "x=np.array( [[1,1], [2,2], [3,3]] )\n",
    "print(x.sum())    #모든 합\n",
    "print(x.sum(axis=0))   # 첫번째 차원에 대해 합 [1+2+3, 1+2+3]\n",
    "print(x.sum(axis=1))   # 두번째 차원에 대해 합 [1+1, 2+2, 3+3]"
   ]
  },
  {
   "cell_type": "code",
   "execution_count": 40,
   "id": "299fa597-0752-4e4d-8561-a652a974af16",
   "metadata": {},
   "outputs": [
    {
     "name": "stdout",
     "output_type": "stream",
     "text": [
      "[[ 4  3  5  7]\n",
      " [ 1 12 11  9]\n",
      " [ 2 15  1 14]]\n",
      "[[ 3  4  5  7]\n",
      " [ 1  9 11 12]\n",
      " [ 1  2 14 15]]\n",
      "--------------------\n",
      "[[ 1  3  1  7]\n",
      " [ 2 12  5  9]\n",
      " [ 4 15 11 14]]\n",
      "--------------------\n",
      "[[ 3  4  5  7]\n",
      " [ 1  9 11 12]\n",
      " [ 1  2 14 15]]\n",
      "--------------------\n"
     ]
    }
   ],
   "source": [
    "a=np.array( [   [4,3,5,7],[1,12,11,9], [2,15,1,14] ])\n",
    "b=np.sort(a)    # 기본적으로 가장 안쪽을 기준으로 정렬\n",
    "print(a)\n",
    "print(b)\n",
    "\n",
    "print(\"--------------------\")\n",
    "c=np.sort(a, axis=0)  # 0번째 차원에 대해서 a의 열을 정렬\n",
    "print(c)\n",
    "print(\"--------------------\")\n",
    "d=np.sort(a, axis=1)  # 1번째 차원에 대해서\n",
    "print(d)\n",
    "print(\"--------------------\")\n"
   ]
  },
  {
   "cell_type": "code",
   "execution_count": null,
   "id": "d82f0b57-98d4-47c0-a48f-cdaf5e40efb3",
   "metadata": {},
   "outputs": [],
   "source": [
    "# 랜덤이랑 확률\n"
   ]
  }
 ],
 "metadata": {
  "kernelspec": {
   "display_name": "Python 3 (ipykernel)",
   "language": "python",
   "name": "python3"
  },
  "language_info": {
   "codemirror_mode": {
    "name": "ipython",
    "version": 3
   },
   "file_extension": ".py",
   "mimetype": "text/x-python",
   "name": "python",
   "nbconvert_exporter": "python",
   "pygments_lexer": "ipython3",
   "version": "3.11.7"
  }
 },
 "nbformat": 4,
 "nbformat_minor": 5
}

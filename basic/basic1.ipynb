{
 "cells": [
  {
   "cell_type": "code",
   "execution_count": null,
   "id": "46d5ffcd-b86f-420a-ad2b-d56c264c6adb",
   "metadata": {},
   "outputs": [],
   "source": [
    "print(\"Hello World!\")\n",
    "\n",
    "# 주석, 조건문 시 중괄호 대신 depth로 구별 (tab or spaceX4)\n",
    "# if (True ) :\n",
    "    \n",
    "    \n",
    "\n",
    "    "
   ]
  },
  {
   "cell_type": "code",
   "execution_count": null,
   "id": "0a74763a-407e-4344-bdc2-b8c175270a35",
   "metadata": {},
   "outputs": [],
   "source": [
    "#컴파일러 언어 vs 인터프리터 언어\n",
    "#정적 타입 언어 vs 동적 타입 언어\n",
    "name = \"한창희\"\n",
    "print(name)\n",
    "name=3\n",
    "print(name)    # 자동완성 tab\n"
   ]
  },
  {
   "cell_type": "code",
   "execution_count": null,
   "id": "e55b8ed7-b297-4e19-a7e0-83bfa72ee3c3",
   "metadata": {},
   "outputs": [],
   "source": [
    "# 자바에서 byte = 1byte[8bit] ASCII,\n",
    "# int 4byte[32bit]  -21억 ~ +21억,           오버플로우\n",
    "# float = 4byte[32bit]                       실수 표현하는 방법\n",
    "\n",
    "# and or 연산자 순서 중요. (논리적으론 같을지 몰라도 코드 실행은 다르다)\n",
    "# call by value, call by reference (복사 참조, 깊은 복사 얕은 복사)\n",
    "# 원본을 바꾼다 vs 원본을 유지한다 + 값 retrun\n"
   ]
  },
  {
   "cell_type": "code",
   "execution_count": null,
   "id": "7a508fec-3c21-4c74-b502-3633f592185c",
   "metadata": {},
   "outputs": [],
   "source": [
    "# 파이썬 기초 변수선언, 자료형, 조건문 반복문, 파이썬 자료형, 클래스를 배웁니다.\n",
    "# 프로그래머스 문제 풀기\n",
    "\n",
    "# 동적 타입, 변수에 타입을 지정하지 않는다.\n",
    "name = '김민지'\n",
    "print(name)\n",
    "name=3\n",
    "print(name)"
   ]
  },
  {
   "cell_type": "code",
   "execution_count": null,
   "id": "752e3abe-96c2-48a6-a4e4-1b0955901f5d",
   "metadata": {},
   "outputs": [],
   "source": [
    "# 연산자\n",
    "a=10\n",
    "b=5\n",
    "#print(\"더하기 : \" + (a+b))\n",
    "print(\"더하기 : \" , a+b, \"나누기 : \", a/b)"
   ]
  },
  {
   "cell_type": "code",
   "execution_count": null,
   "id": "2bda2e40-4231-4175-819d-e467e40d1178",
   "metadata": {},
   "outputs": [],
   "source": [
    "#bool\n",
    "a = True\n",
    "b = False # 대소문자 구분\n",
    "c=10\n",
    "d=5\n",
    "print( a & b)\n",
    "print( a | b)\n",
    "\n",
    "print(\"숫자 : \", c & d)\n",
    "print(\"숫자 : \", c | d) # & | 는 논리연산이 아닌 비트연산자\n",
    "print(\"숫자 : \", c << 2 ) # 쉬프트 연산자\n",
    "\n",
    "# 파이썬은 && || 없음 and or만\n",
    "print(\"진짜 논리연산은 and : \" , a and b)\n",
    "print(\"진짜 논리연산은 or : \" , a or b)"
   ]
  },
  {
   "cell_type": "code",
   "execution_count": null,
   "id": "45fce9d6-ba32-4bad-8422-f471cbf5846d",
   "metadata": {},
   "outputs": [],
   "source": [
    " # 멤버연산자\n",
    "a=3\n",
    "b=[1,3,5,7,9]\n",
    "print(a in b)"
   ]
  },
  {
   "cell_type": "code",
   "execution_count": null,
   "id": "18400487-9c9a-4cad-a8f1-ba55e2c83066",
   "metadata": {},
   "outputs": [],
   "source": [
    "# 조건문 반복문\n",
    "name='김민지'\n",
    "newjeans=('김민지','팜하니','다니엘','강해린','이혜인')\n",
    "if name not in newjeans : \n",
    "    print('김민지는 newjeans 리더인가')\n",
    "elif '다니엘준마쉬' in newjeans :\n",
    "    print('풀네임은 모르는 사람이 많다.')\n",
    "else : \n",
    "    print('막내는 이혜인')\n",
    "\n",
    "# switch문은 패스 = > 파이썬에 없음\n",
    "\n",
    "# 자바  \n",
    "# switch (변수) {\n",
    "#    case1,3,5 :     java 14부터 지원하는 기능 (=> 회사는 6,8을 주로 사용)\n",
    "#    코드\n",
    "#    break;\n",
    "    "
   ]
  },
  {
   "cell_type": "code",
   "execution_count": null,
   "id": "f0fed169-f2f9-40da-9c36-bb610d6e43c2",
   "metadata": {},
   "outputs": [],
   "source": [
    "# 반복문\n",
    "i=1\n",
    "while i <= 10 :     # while문 쓸 수도 있겠지만 .. 대부분 for문 사용\n",
    "    print(\"현재 i 값 \", i)\n",
    "    i+=1\n",
    "\n",
    "print(\"===============\")\n",
    "# for i in '배열, 리스트 등등 반복할 수 있는 것'\n",
    "for i in range(1,10) :   #range (i,k) i는 include, k는 exclude\n",
    "    print(i)"
   ]
  },
  {
   "cell_type": "code",
   "execution_count": null,
   "id": "af33f760-c885-4ad2-ba7a-86aba447e196",
   "metadata": {},
   "outputs": [],
   "source": [
    "print(\"줄바꿈 안하기\" , end='')\n",
    "print(\"줄바꿈 안됨\")\n",
    "\n",
    "print(\"*\" * 5)"
   ]
  },
  {
   "cell_type": "code",
   "execution_count": null,
   "id": "ca249cd0-644c-40a5-8d26-2b4054b641b9",
   "metadata": {},
   "outputs": [],
   "source": [
    "# 별 그리기\n",
    "blank = \"\";\n",
    "star = \"*\"\n",
    "\n",
    "for i in range(0,5) :\n",
    "    blank+=star\n",
    "    print(blank)\n"
   ]
  },
  {
   "cell_type": "code",
   "execution_count": null,
   "id": "c67f87e2-08f8-4052-a234-b734a0c8f567",
   "metadata": {},
   "outputs": [],
   "source": [
    "# 별 그리기\n",
    "\n",
    "#     *\n",
    "#    **\n",
    "#   ***\n",
    "#  ****\n",
    "# *****\n",
    "blank = \"\";\n",
    "star = \"*\"\n",
    "\n",
    "for i in range(0,6) :\n",
    "    print((6-i)*\" \" +i*\"*\")\n"
   ]
  },
  {
   "cell_type": "code",
   "execution_count": null,
   "id": "a54e7df0-8843-4997-a60f-f7fbba9da3e6",
   "metadata": {},
   "outputs": [],
   "source": [
    "# 별 그리기\n",
    "\n",
    "#     *\n",
    "#    ***\n",
    "#   *****\n",
    "#  *******\n",
    "# *********\n",
    "\n",
    "for i in range(0,6) :\n",
    "    print((6-i)*\" \" +i*\"*\")\n"
   ]
  },
  {
   "cell_type": "code",
   "execution_count": null,
   "id": "d8c70a12-c0fc-4f5c-a00a-8db59a6b2c94",
   "metadata": {},
   "outputs": [],
   "source": [
    "# 파이썬 자료형\n",
    "# NoneType (파일을 못 읽거나, 웹 크롤링 과정에서 CSS 선택자 실수), int, float,str,\n",
    "# tuple,list,set, dict, function\n",
    "\n",
    "# 변수의 타입을 확인하기 위해선 type() 함수 사용\n",
    "print ( type('김민지'))\n",
    "print ( type(1))\n",
    "print ( type(0.5))\n",
    "print ( type(True))\n",
    "a=0.5\n",
    "print(type(0.5)==type(a))"
   ]
  },
  {
   "cell_type": "code",
   "execution_count": null,
   "id": "556ef97f-c624-4a6e-a0bb-d6679af9ec1d",
   "metadata": {},
   "outputs": [],
   "source": [
    "# tuple : ()로 선언, 값 변경 불가    ,순서, 중복 O\n",
    "tuple1=1,3,5,7,10,'가','나',0.5\n",
    "print(tuple1)\n",
    "tuple2=(1,3,5,7,10,'가','나',0.5)\n",
    "print(tuple2[3])\n",
    "# tuple2[3] = 8                    tuple은 값을 변경하지는 못한다.\n",
    "for ele in tuple1 : \n",
    "    print(ele)\n",
    "print( len(tuple1) )\n",
    "print( \"길이 : \" , len(tuple1) )\n"
   ]
  },
  {
   "cell_type": "code",
   "execution_count": null,
   "id": "d8c7914f-fd75-4cd6-b386-3d028487892f",
   "metadata": {},
   "outputs": [],
   "source": [
    "# list : [], 순서 중복 0, 값 변경 가능\n",
    "# 어떤함수 ( tuple or list ). tuple이든 list든 상관 없는 경우가 많습니다.\n",
    "members=[\"김가을\",\"안유진\",\"나오이 레이\",\"장원영\",\"김지원\",\"이현서\"]\n",
    "members[2]='김레이'\n",
    "print(members)\n",
    "\n",
    "members.remove('김레이')      # remove의 함수는 해당 값을 제거한다.\n",
    "print(members)\n",
    "\n",
    "members.insert(2,'김레이2')\n",
    "print(members)\n",
    "\n",
    "members.append('7멤버')\n",
    "print(members)\n",
    "\n",
    "members.reverse()      #reverse, sort 는 원본을 건드린다.\n",
    "print(members)\n",
    "\n",
    "\n",
    "print(members[1 : ] )  # 슬라이싱 : 1번부터 ~ \n",
    "print( members[2:5 ])  # 2~(5, exclude)번 "
   ]
  },
  {
   "cell_type": "code",
   "execution_count": null,
   "id": "c7f95955-f037-409c-9f56-0cd6def32cb9",
   "metadata": {},
   "outputs": [],
   "source": [
    "# Set    중복X 순서X    \n",
    "set1 = {1,2,3,4,1,2,3,4,1,2,3,4}\n",
    "print(set1)\n",
    "copy_set=set1.copy()\n",
    "print(copy_set)\n",
    "set1.clear()\n",
    "print(\"set1클리어 된 후 set1 \", set1)\n",
    "print(\"복사한 copy_set은 clear됐나요 안됐나요? : 클리어 안됨\", copy_set)\n",
    "#print(copy_set)"
   ]
  },
  {
   "cell_type": "code",
   "execution_count": 121,
   "id": "09bbdf5a-2d7e-441c-93d4-560250453563",
   "metadata": {},
   "outputs": [
    {
     "name": "stdout",
     "output_type": "stream",
     "text": [
      "{'name': '김가을', 'hobby': '인스타'}\n",
      "dict_values(['김가을', '인스타'])\n",
      "dict_keys(['name', 'hobby'])\n",
      "김가을\n",
      "인스타\n",
      "{'name': '김가을2', 'hobby': '인스타', 'age': 23}\n",
      "{'name': '김가을2', 'hobby': '인스타'}\n"
     ]
    }
   ],
   "source": [
    "# dictionary     - key value로 이루어짐 ( 자바의 Map )\n",
    "dict_gaeul={\"name\" : \"김가을\", \"hobby\" : \"인스타\"}\n",
    "print(dict_gaeul)\n",
    "print(dict_gaeul.values())\n",
    "print(dict_gaeul.keys())\n",
    "print(dict_gaeul.get(\"name\"))\n",
    "print(dict_gaeul.get(\"hobby\"))\n",
    "\n",
    "dict_gaeul[\"age\"] = 23          # 없는 속성이면 데이터 추가\n",
    "dict_gaeul[\"name\"] = '김가을2'   # 있는 속성이면 데이터 변경\n",
    "print(dict_gaeul)\n",
    "\n",
    "del dict_gaeul['age'] # 속성 삭제\n",
    "print(dict_gaeul)"
   ]
  },
  {
   "cell_type": "code",
   "execution_count": 25,
   "id": "f737825d-cbd5-4a6c-9b16-028fd31173be",
   "metadata": {},
   "outputs": [
    {
     "name": "stdout",
     "output_type": "stream",
     "text": [
      "[{'name': '김가을', 'age': 23, 'position': '랩'}, {'name': '안유진', 'age': 22, 'position': '지락실'}, {'name': '안유진', 'age': 23, 'position': '랩', 'etc': '일본인'}]\n",
      "==========================================\n",
      "2021\n",
      "김가을\n",
      "안유진\n",
      "안유진\n",
      "한국인\n",
      "한국인\n",
      "일본인\n",
      "==========================================\n",
      "김가을 한국인\n",
      "안유진 한국인\n",
      "안유진 일본인\n"
     ]
    }
   ],
   "source": [
    "# dictionary가 json처럼 생겼다.\n",
    "gaeul={\"name\":\"김가을\", \"age\":23, \"position\":\"랩\"}\n",
    "yujin={\"name\":\"안유진\", \"age\":22, \"position\":\"지락실\"}\n",
    "rei={\"name\":\"안유진\", \"age\":23, \"position\":\"랩\", \"etc\":\"일본인\"}\n",
    "\n",
    "members=[gaeul, yujin, rei]\n",
    "\n",
    "ive={\"origin\" : \"ive는 i have의 축약형인 I\\'VE의 약자에서 유래\"\n",
    "    ,\"members\":members, \"데뷔년도\":2021}\n",
    "\n",
    "print(ive.get(\"members\"))\n",
    "\n",
    "print(\"==========================================\")\n",
    "# ive의 데뷔년도를 출력\n",
    "print(ive.get(\"데뷔년도\"))\n",
    "\n",
    "# ive의 member들 이름을 모두 출력\n",
    "memList = ive.get(\"members\")\n",
    "\n",
    "for i in range(0,3):\n",
    "    print(memList[i].get(\"name\"))\n",
    "    \n",
    "# members를 반복하면서 etc가 없으면 \"한국인\"을 출력, 있으면 etc의 값을 출력\n",
    "for i in range(0,3):\n",
    "    # print(memList[i].get(\"etc\"))\n",
    "    if memList[i].get(\"etc\") == None:\n",
    "        print('한국인')\n",
    "    elif memList[i].get(\"etc\") != None:\n",
    "        print(memList[i].get(\"etc\"))\n",
    "print(\"==========================================\")\n",
    "# 두번째 방법\n",
    "p_members = ive.get(\"members\")\n",
    "for member in p_members:\n",
    "    if 'etc' not in member.keys():\n",
    "        print(member[\"name\"], \"한국인\")\n",
    "    elif 'etc' in member.keys():\n",
    "        print(member[\"name\"], member['etc'])"
   ]
  },
  {
   "cell_type": "code",
   "execution_count": 45,
   "id": "5708a2f8-56d2-42b1-b7b7-ab6b56196510",
   "metadata": {},
   "outputs": [
    {
     "name": "stdout",
     "output_type": "stream",
     "text": [
      "5.916079783099616\n",
      "False\n"
     ]
    }
   ],
   "source": [
    "# 함수\n",
    "import math\n",
    "\n",
    "# 소수인지 판단하는 함수\n",
    "def is_prime(num) :    # num은 2부터\n",
    "    sqrt=math.sqrt(num)\n",
    "    print(sqrt)\n",
    "    for i in range(2,math.floor(sqrt)+1 ) :\n",
    "        if num%i == 0:\n",
    "            return False\n",
    "    return True\n",
    "\n",
    "print(is_prime(35))\n",
    "\n"
   ]
  },
  {
   "cell_type": "code",
   "execution_count": 1,
   "id": "d55eb4d7-1a5d-4a0e-8d52-e9d85576eef9",
   "metadata": {},
   "outputs": [
    {
     "name": "stdout",
     "output_type": "stream",
     "text": [
      "[2, 3, 8]\n"
     ]
    }
   ],
   "source": [
    "import math\n",
    "\n",
    "def append_prime(num,prime_list) :\n",
    "    # 소수이면 prime_list에 num을 append 여기만 잘 작성해보시고.\n",
    "    # 4 => [2,3]\n",
    "    # 5 => [2,3] => [2,3,5]\n",
    "    # 6 => [2,3,5]\n",
    "    # 7 => [2,3,5] => [2,3,5,7]\n",
    "    # 8 => [2,3,5,7]\n",
    "\n",
    "    i=1\n",
    "    for i in range(i,num) :\n",
    "       i+=1\n",
    "       if num % i != 0:\n",
    "            prime_list.append(num)\n",
    "            break\n",
    "\n",
    "# append_prime(4,prime_list)\n",
    "# print(prime_list)\n",
    "# append_prime(5,prime_list)\n",
    "# print(prime_list)\n",
    "# append_prime(6,prime_list)\n",
    "# print(prime_list)\n",
    "# append_prime(7,prime_list)\n",
    "# print(prime_list)\n",
    "    \n",
    "\n",
    "\n",
    "def get_prime_list(num) :  # num은 4부터\n",
    "    prime_list=[2,3]\n",
    "    append_prime(num,prime_list)\n",
    "    #num 이하의 수들 중 소수인거를 return \n",
    "    #num == 10     append_prime(4, prime_list), append_prime(5,prime_list)\n",
    "    #append_prime(6,prime_list) 여기서는 prime_list[2,3,5] ...\n",
    "\n",
    "    return prime_list\n",
    "\n",
    "print(get_prime_list(8))\n",
    "# 2,3,5,7,11,13,17,19,23,29 를 return 해주면 됨"
   ]
  },
  {
   "cell_type": "code",
   "execution_count": 5,
   "id": "c6854ff0-be49-4a9f-abe4-67b3a67ca1e6",
   "metadata": {},
   "outputs": [],
   "source": [
    "def solution(angle):\n",
    "    answer = 0\n",
    "    if 0<angle<90 :\n",
    "        answer=1\n",
    "        \n",
    "    elif angle==90 :\n",
    "        answer=2\n",
    "    elif 90<angle<180:\n",
    "        answer=3\n",
    "    else: answer=4\n",
    "    return answer\n",
    "    "
   ]
  },
  {
   "cell_type": "code",
   "execution_count": 8,
   "id": "26840443-c326-4ed0-969a-95252c5efbd7",
   "metadata": {},
   "outputs": [],
   "source": [
    "def solution(numbers):\n",
    "    sum = 0\n",
    "    for i in range (0,len(numbers)): \n",
    "        sum = sum + numbers[i]\n",
    "\n",
    "    a = sum / len(numbers)\n",
    "    return a"
   ]
  },
  {
   "cell_type": "code",
   "execution_count": 14,
   "id": "ef36ea90-5e4c-4e75-86b4-ee701f5f2157",
   "metadata": {},
   "outputs": [],
   "source": [
    "def solution(numbers):\n",
    "    answer = []\n",
    "    result = 1\n",
    "    for i in range(0,len(numbers)):\n",
    "        if numbers[i] < numbers[i+1]:\n",
    "            answer.append(numbers[i+1]) \n",
    "            \n",
    "            \n",
    "    for i in range(0,len(answer)):\n",
    "        answer = answer[len(answer)-1:len(answer)+1]\n",
    "        result = answer[i] * answer[i+1]\n",
    "    return answer\n"
   ]
  },
  {
   "cell_type": "code",
   "execution_count": 21,
   "id": "9333324e-4b22-4b9d-9b95-52aa06149d58",
   "metadata": {},
   "outputs": [
    {
     "name": "stdout",
     "output_type": "stream",
     "text": [
      "[1, 2, 3, 4, 5]\n"
     ]
    },
    {
     "ename": "TypeError",
     "evalue": "'NoneType' object is not subscriptable",
     "output_type": "error",
     "traceback": [
      "\u001b[1;31m---------------------------------------------------------------------------\u001b[0m",
      "\u001b[1;31mTypeError\u001b[0m                                 Traceback (most recent call last)",
      "Cell \u001b[1;32mIn[21], line 11\u001b[0m\n\u001b[0;32m      7\u001b[0m         \u001b[38;5;28mprint\u001b[39m(i)\n\u001b[0;32m      9\u001b[0m     \u001b[38;5;28;01mreturn\u001b[39;00m answer\n\u001b[1;32m---> 11\u001b[0m solution([\u001b[38;5;241m1\u001b[39m, \u001b[38;5;241m2\u001b[39m, \u001b[38;5;241m3\u001b[39m, \u001b[38;5;241m4\u001b[39m, \u001b[38;5;241m5\u001b[39m] )\n",
      "Cell \u001b[1;32mIn[21], line 5\u001b[0m, in \u001b[0;36msolution\u001b[1;34m(numbers)\u001b[0m\n\u001b[0;32m      3\u001b[0m \u001b[38;5;28mprint\u001b[39m(numbers)\n\u001b[0;32m      4\u001b[0m numbers \u001b[38;5;241m=\u001b[39m numbers\u001b[38;5;241m.\u001b[39msort(reverse\u001b[38;5;241m=\u001b[39m\u001b[38;5;28;01mTrue\u001b[39;00m) \u001b[38;5;66;03m# 내림차순 정렬\u001b[39;00m\n\u001b[1;32m----> 5\u001b[0m \u001b[38;5;28mprint\u001b[39m(numbers[\u001b[38;5;241m0\u001b[39m])\n\u001b[0;32m      6\u001b[0m \u001b[38;5;28;01mfor\u001b[39;00m i \u001b[38;5;129;01min\u001b[39;00m \u001b[38;5;28mrange\u001b[39m(\u001b[38;5;241m0\u001b[39m,\u001b[38;5;241m2\u001b[39m):                 \u001b[38;5;66;03m# 반복문 두 번 돌려서 곱하기\u001b[39;00m\n\u001b[0;32m      7\u001b[0m     \u001b[38;5;28mprint\u001b[39m(i)\n",
      "\u001b[1;31mTypeError\u001b[0m: 'NoneType' object is not subscriptable"
     ]
    }
   ],
   "source": [
    "def solution(numbers):\n",
    "    answer = 1\n",
    "    numbers.sort(reverse=True) # 내림차순 정렬\n",
    "\n",
    "    for i in range(0,2):                 # 반복문 두 번 돌려서 곱하기\n",
    "        print(i)\n",
    "         \n",
    "    return answer\n",
    "\n",
    "solution([1, 2, 3, 4, 5] )"
   ]
  },
  {
   "cell_type": "code",
   "execution_count": 33,
   "id": "af85630f-858e-41f9-9319-ccab0e2a8563",
   "metadata": {},
   "outputs": [],
   "source": [
    "def solution(array):\n",
    "    answer = 0\n",
    "    array.sort    # 정렬한 배열\n",
    "\n",
    "    idx = round(len(array)/2)\n",
    "    answer = array[idx]\n",
    "    return answer\n",
    "\n"
   ]
  },
  {
   "cell_type": "code",
   "execution_count": 34,
   "id": "cd0a9e26-99e4-4e9c-84b7-21d0409fb516",
   "metadata": {},
   "outputs": [],
   "source": [
    "def solution(n, t):\n",
    "    answer = n ** (t+1)\n",
    "    return answer\n",
    "\n",
    "\n",
    "def solution(n, t):\n",
    "    answer = 1\n",
    "    for i in range(1,t+1):\n",
    "        answer = 2 * n * i * answer\n",
    "        return answer\n",
    "\n",
    "def solution(my_string):\n",
    "    result = ''\n",
    "    alp = ['a','e','i','o','u']\n",
    "    \n",
    "    for i in range(len(my_string)):    \n",
    "        for j in range(len(alp)):\n",
    "            if alp[j] == my_string[i] :\n",
    "                result += my_string.replace(alp[i],'')\n",
    "                return result\n"
   ]
  }
 ],
 "metadata": {
  "kernelspec": {
   "display_name": "Python 3 (ipykernel)",
   "language": "python",
   "name": "python3"
  },
  "language_info": {
   "codemirror_mode": {
    "name": "ipython",
    "version": 3
   },
   "file_extension": ".py",
   "mimetype": "text/x-python",
   "name": "python",
   "nbconvert_exporter": "python",
   "pygments_lexer": "ipython3",
   "version": "3.11.7"
  }
 },
 "nbformat": 4,
 "nbformat_minor": 5
}

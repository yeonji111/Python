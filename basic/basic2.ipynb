{
 "cells": [
  {
   "cell_type": "code",
   "execution_count": 5,
   "id": "42f6cd24-a19b-44af-9a93-a9a6f3623f7c",
   "metadata": {},
   "outputs": [
    {
     "name": "stdout",
     "output_type": "stream",
     "text": [
      "너비 :  20\n",
      "높이 :  30\n",
      "너비 : 20, 높이 : 30\n"
     ]
    }
   ],
   "source": [
    "# 객체지향 프로그래밍 class\n",
    "# public class MyClass extends Object - 자바\n",
    "class Rectangle(object) : # 파이썬은 extend할 경우 object를 작성해야한다.\n",
    "\n",
    "    # 생성자\n",
    "    def __init__(self, v, h):   # 파이썬에서 인스턴스 메소드의 첫번째 인자는 무조건 자기자신입니다.\n",
    "        self.v=v\n",
    "        self.h=h\n",
    "\n",
    "    def __str__(self) :   # toString()\n",
    "        return \"너비 : {0}, 높이 : {1}\".format(self.v, self.h)\n",
    "\n",
    "\n",
    "r1=Rectangle(20,30)\n",
    "print(\"너비 : \", r1.v)\n",
    "print(\"높이 : \", r1.h)\n",
    "print(r1)\n",
    "    "
   ]
  },
  {
   "cell_type": "code",
   "execution_count": 22,
   "id": "482000ad-e482-47d6-96b9-80c45799ea65",
   "metadata": {},
   "outputs": [
    {
     "name": "stdout",
     "output_type": "stream",
     "text": [
      "12\n"
     ]
    }
   ],
   "source": [
    "\n",
    "class Book(object) :\n",
    "    count = 0     #클래스속성 (+인스턴스 속성)\n",
    "    \n",
    "    def __init__(self, name, price, author) :   #인스턴스 속성\n",
    "        self.name = name\n",
    "        self.price = price\n",
    "        self.author = author\n",
    "        Book.count+=1\n",
    "        # self.count+=1\n",
    "\n",
    "\n",
    "\n",
    "Book.count = 10 # 처음 class 속성 count=10\n",
    "b1 = Book(\"노인과 바다\", 10000, \"어니스트 해밍웨이\") # 객체 생성할때 count+=1\n",
    "b2 = Book(\"해리포터 불의 잔\", 20000, \"J.K 롤링\") # 객체 생성할때 count+=1\n",
    "\n",
    "print(Book.count)"
   ]
  },
  {
   "cell_type": "code",
   "execution_count": 32,
   "id": "3559fc16-7786-4a12-b59d-31171914a07b",
   "metadata": {},
   "outputs": [
    {
     "name": "stdout",
     "output_type": "stream",
     "text": [
      "공격함\n",
      "900.0\n",
      "공격함\n",
      "600\n"
     ]
    }
   ],
   "source": [
    "# 포켓몬   \n",
    "# 불, 물, 풀\n",
    "# 공격 : 속성에 따라서 2배 데미지, 0.5배 데미지\n",
    "\n",
    "class PoketMon(object) :\n",
    "    def __init__ (self,name,life,damage,attr) : # 포켓몬 필드. life, 공격력(damage), 속성(attr)\n",
    "        self.name=name\n",
    "        self.life=life\n",
    "        self.damage=damage\n",
    "        self.attr=attr\n",
    "\n",
    "    def attack (self, target) :\n",
    "       # 내 속성이랑 상대속성이랑 비교해서 상대의 데미지를 깎으세요.\n",
    "       # self.attr 이랑 target.attr을 잘 구별해보세요.\n",
    "        print(\"공격함\")\n",
    "        if self.attr == 'fire' and target.attr == 'water':\n",
    "            target.life = target.life - self.damage * 0.5\n",
    "        elif self.attr == 'fire' and target.attr == 'grass':\n",
    "            target.life = target.life - self.damage * 2\n",
    "        elif self.attr == 'water' and target.attr == 'grass':\n",
    "            target.life = target.life - self.damage * 0.5\n",
    "        elif self.attr == 'water' and target.attr == 'fire':\n",
    "            target.life = target.life - self.damage * 2\n",
    "        elif self.attr == 'grass' and target.attr == 'water':\n",
    "            target.life = target.life - self.damage * 2\n",
    "        elif self.attr == 'grass' and target.attr == 'fire':\n",
    "            target.life = target.life - self.damage * 0.5\n",
    "\n",
    "\n",
    "파이리 = PoketMon(\"파이리\",1000, 200, \"fire\")\n",
    "꼬부기 = PoketMon(\"꼬부기\",1000, 200, \"water\")\n",
    "이상해씨 = PoketMon(\"이상해씨\",1000,200,\"grass\")\n",
    "\n",
    "\n",
    "파이리.attack(꼬부기)\n",
    "print(꼬부기.life) # 1000 - 200 *0.5 = 900 -> 파이리가 꼬부기를 공격\n",
    "\n",
    "꼬부기.attack(파이리)\n",
    "print(파이리.life) # 1000 - 200 *2 = 600 -> 꼬부기가 파이리를 공격\n"
   ]
  },
  {
   "cell_type": "code",
   "execution_count": 35,
   "id": "8349b3ee-b4c9-4f46-a2b8-4ba431f9811e",
   "metadata": {},
   "outputs": [
    {
     "name": "stdout",
     "output_type": "stream",
     "text": [
      "500\n"
     ]
    }
   ],
   "source": [
    "class MegaPoketMon(PoketMon)  :\n",
    "\n",
    "    def __init__ (self,name,life,damage,attr, attr2) :\n",
    "        super(MegaPoketMon,self).__init__(name,life,damage,attr)\n",
    "        self.attr2=attr2\n",
    "\n",
    "    def attack(self,target) : # 오버라이딩 \n",
    "        # 메가는 짱 쎄니까 무조건 3배\n",
    "        target.life = target.life - self.damage*3\n",
    "        \n",
    "\n",
    "\n",
    "메가리자몽X = MegaPoketMon (\"메가리자몽X\", 2000, 500, \"fire\", \"dragon\")\n",
    "메가리자몽Y = MegaPoketMon (\"메가리자몽Y\", 2000, 500, \"fire\", \"fly\")\n",
    "\n",
    "거북왕= PoketMon(\"거북왕\", 2000, 200, \"water\")\n",
    "\n",
    "메가리자몽X.attack(거북왕)\n",
    "print(거북왕.life) # 2000 - 1500 = 500\n",
    "\n",
    "\n"
   ]
  },
  {
   "cell_type": "code",
   "execution_count": 27,
   "id": "623fde6b-0ad7-4425-af5f-6e49777e564f",
   "metadata": {},
   "outputs": [
    {
     "name": "stdout",
     "output_type": "stream",
     "text": [
      "2024-04-05 16:11:25.057278\n",
      "생일날 :  2월15일\n",
      "태어난 요일 : 5\n",
      "내 생년월일 1997.02.15\n",
      "윤쌤식 나이 :  27\n"
     ]
    }
   ],
   "source": [
    "import datetime as dt\n",
    "# Date, Calendar deprecate  -> LocalDate 사용 지양\n",
    "\n",
    "now = dt.datetime.now()\n",
    "print(now)\n",
    "\n",
    "#dt.datetime(년,월,일,시간,분,초)\n",
    "연지_birth = dt.datetime(1997, 2, 15, 1, 1, 0)\n",
    "# print(연지_birth)\n",
    "print(\"생일날 : \", str(연지_birth.month) +\"월\" +  str(연지_birth.day) + \"일\")\n",
    "print(\"태어난 요일 : \" + str(연지_birth.weekday()))\n",
    "# .year , .month , .hour , .minute\n",
    "\n",
    "# function()\n",
    "# weekday() 요일을 0~6으로 리턴 (-> 월요일부터 0 ~ )\n",
    "# date() : 날짜만 리턴\n",
    "# time() : 시간만 리턴\n",
    "# strftime( str from time. 시간을 문자열로 변환 ) , strptime : 문자를 time으로 변환\n",
    "\n",
    "print(\"내 생년월일 \" + 연지_birth.strftime(\"%Y.%m.%d\"))\n",
    "\n",
    "# datetime 가지고 만나이 계산해보기 연지_birth, now\n",
    "if (now - 연지_birth).days % 365 >= 0 :\n",
    "    age = now.year - 연지_birth.year\n",
    "    print(\"윤쌤식 나이 : \" ,age)"
   ]
  },
  {
   "cell_type": "code",
   "execution_count": null,
   "id": "474d1ac1-8a42-4684-8017-8ec6a3f3d502",
   "metadata": {},
   "outputs": [],
   "source": []
  }
 ],
 "metadata": {
  "kernelspec": {
   "display_name": "Python 3 (ipykernel)",
   "language": "python",
   "name": "python3"
  },
  "language_info": {
   "codemirror_mode": {
    "name": "ipython",
    "version": 3
   },
   "file_extension": ".py",
   "mimetype": "text/x-python",
   "name": "python",
   "nbconvert_exporter": "python",
   "pygments_lexer": "ipython3",
   "version": "3.11.7"
  }
 },
 "nbformat": 4,
 "nbformat_minor": 5
}

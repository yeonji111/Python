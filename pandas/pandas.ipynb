{
 "cells": [
  {
   "cell_type": "code",
   "execution_count": 1,
   "id": "27eca543-e8aa-4108-aaf5-7485a33985b1",
   "metadata": {},
   "outputs": [
    {
     "name": "stdout",
     "output_type": "stream",
     "text": [
      "대전    1440000\n",
      "논산     110000\n",
      "세종     380000\n",
      "계룡      50000\n",
      "dtype: int64\n",
      "Index(['대전', '논산', '세종', '계룡'], dtype='object')\n",
      "[1440000  110000  380000   50000]\n",
      "도시\n",
      "대전    1440000\n",
      "논산     110000\n",
      "세종     380000\n",
      "계룡      50000\n",
      "Name: 도시별 인구, dtype: int64\n"
     ]
    }
   ],
   "source": [
    "# pandas 1차원배열의 series, 2차원배열의 DataFrame\n",
    "# numpy가 2차원배열을 이용해 계산식을 도와주는 lib였다면\n",
    "# RDB의 row, column을 계산하는 lib입니다.\n",
    "\n",
    "import pandas as pd\n",
    "s=pd.Series([1440000, 110000, 380000, 50000], index=[\"대전\", \"논산\", \"세종\", \"계룡\"]) \n",
    "print(s)\n",
    "print(s.index)\n",
    "print(s.values)\n",
    "\n",
    "s.name = '도시별 인구'\n",
    "s.index.name = '도시'\n",
    "print(s)"
   ]
  },
  {
   "cell_type": "code",
   "execution_count": null,
   "id": "77758aff-b91e-446b-8874-bf810d74888e",
   "metadata": {},
   "outputs": [],
   "source": [
    "# 시리즈 연산\n",
    "s=pd.Series([1440000, 110000, 380000, 50000], index=[\"대전\", \"논산\", \"세종\", \"계룡\"]) \n",
    "s=s/10000        # 값만 계산 인구가 만단위로 나오겠지?\n",
    "print(s)\n",
    "\n",
    "print(\"------------\")\n",
    "# 시리즈에서 원하는 데이터 얻기\n",
    "print(\"s[1] : \" + s[1])\n",
    "print(\"s[1:3]: \" + s[1:3])\n",
    "print(\"s[[0,1,2]]: \" + s[[0,1,2]])\n",
    "print(\"index로 슬라이싱\", s[\"대전\":\"세종\"])\n",
    "print(\"대전\", s.대전)"
   ]
  },
  {
   "cell_type": "code",
   "execution_count": 14,
   "id": "f91dcb75-00b4-4075-8801-e6c0302b8c3d",
   "metadata": {},
   "outputs": [
    {
     "name": "stdout",
     "output_type": "stream",
     "text": [
      "True\n",
      "False\n",
      "False\n",
      "대전 : 1440000\n",
      "세종 : 380000\n",
      "계룡 : 50000\n"
     ]
    }
   ],
   "source": [
    "s=pd.Series([1440000, 110000, 380000, 50000], index=[\"대전\", \"논산\", \"세종\", \"계룡\"]) \n",
    "\n",
    "print(\"대전\" in s)\n",
    "print(\"서울\" in s)\n",
    "del s[\"논산\"]\n",
    "print(\"논산\" in s)\n",
    "for k,v in s.items():\n",
    "    print(k+ \" : \" + str(v))\n",
    "\n"
   ]
  },
  {
   "cell_type": "code",
   "execution_count": 36,
   "id": "51477345-670f-4d40-9c8f-94d9ebd29504",
   "metadata": {},
   "outputs": [
    {
     "name": "stdout",
     "output_type": "stream",
     "text": [
      "대전    1440000\n",
      "논산     110000\n",
      "세종     380000\n",
      "계룡      50000\n",
      "dtype: int64\n",
      "   도시  2016  2020  2024\n",
      "0  대전   140   150   144\n",
      "1  논산    20    15    11\n",
      "2  세종    10    20    30\n",
      "3  계룡     5     7     4\n",
      "RangeIndex(start=0, stop=4, step=1)\n",
      "[['대전' 140 150 144]\n",
      " ['논산' 20 15 11]\n",
      " ['세종' 10 20 30]\n",
      " ['계룡' 5 7 4]]\n"
     ]
    }
   ],
   "source": [
    "# pd.DataFrame        series가 여러개 있는거?\n",
    "s=pd.Series([1440000, 110000, 380000, 50000], index=[\"대전\", \"논산\", \"세종\", \"계룡\"]) \n",
    "dict = {\"대전\" : 1_440_000, \"논산\": 110000, \"세종\" : 380000, \"계룡\":50000}\n",
    "s=pd.Series(dict)\n",
    "print(s)\n",
    "\n",
    "# 데이터 프레임은 Series가 여러개 있는거..    or dict 의 값이 배열(리스트)인거\n",
    "# dict2 =  {\"대전\" : [140,150,144], \"논산\": [20,15,11], \"세종\" : [10,20,30], \"계룡\":[5,7,4]}\n",
    "dict2 =  {\"도시\" : [\"대전\",\"논산\",\"세종\",\"계룡\"], 2016 : [140,20,10,5], 2020:[150,15,20,7], 2024:[144,11,30,4]}\n",
    "df = pd.DataFrame(dict2)\n",
    "print(df)\n",
    "\n",
    "print(df.index)\n",
    "print(df.values)"
   ]
  },
  {
   "cell_type": "code",
   "execution_count": 44,
   "id": "bb424a1c-fb66-4897-bf89-868f6a12670e",
   "metadata": {},
   "outputs": [
    {
     "name": "stdout",
     "output_type": "stream",
     "text": [
      "    2016  2020  2024\n",
      "논산    20    15    11\n",
      "세종    10    20    30\n",
      "    2016  2020  2024\n",
      "대전   140   150   144\n",
      "논산    20    15    11\n",
      "세종    10    20    30\n",
      "계룡     5     7     4\n",
      "    2016  2020  2024\n",
      "대전   140   150   144\n",
      "논산    20    15    11\n",
      "세종    10    20    30\n",
      "계룡     5     7     4\n",
      "    2016  2020  2024\n",
      "논산    20    15    11\n",
      "세종    10    20    30\n"
     ]
    }
   ],
   "source": [
    "dict2 =  {2016 : [140,20,10,5], 2020:[150,15,20,7], 2024:[144,11,30,4]}\n",
    "df=pd.DataFrame(dict2, index = [\"대전\",\"논산\",\"세종\",\"계룡\"])\n",
    "\n",
    "#아까했던 원하는 데이터 얻기\n",
    "print(df[1:3])\n",
    "print(df)\n",
    "# print(df.loc[\"대전\"])\n",
    "print(df.loc[\"대전\" : \"계룡\"])\n",
    "print(df.iloc[1:3])"
   ]
  },
  {
   "cell_type": "code",
   "execution_count": 46,
   "id": "c4362dd2-1080-4f8d-b142-30b92423957b",
   "metadata": {},
   "outputs": [
    {
     "name": "stdout",
     "output_type": "stream",
     "text": [
      "Overwriting sample1.csv\n"
     ]
    }
   ],
   "source": [
    "%%writefile sample1.csv\n",
    "c1, c2, c3\n",
    "1, 1.1, one\n",
    "2, 2.2, two\n",
    "3, 3.3, three\n"
   ]
  },
  {
   "cell_type": "code",
   "execution_count": 48,
   "id": "e371298c-05d8-4dbc-9fab-1263cb04f67c",
   "metadata": {},
   "outputs": [
    {
     "name": "stdout",
     "output_type": "stream",
     "text": [
      "   c1   c2      c3\n",
      "0   1  1.1     one\n",
      "1   2  2.2     two\n",
      "2   3  3.3   three\n"
     ]
    }
   ],
   "source": [
    "# %%는 맨 첫줄에만 쓸 수 있다.\n",
    "# read_csv 는 DataFrame 타입으로 리턴해준다.\n",
    "df = pd.read_csv(\"sample1.csv\")\n",
    "print(df)\n"
   ]
  },
  {
   "cell_type": "code",
   "execution_count": 50,
   "id": "ae345da3-fb72-4842-9fdd-7a1dd1cd191b",
   "metadata": {},
   "outputs": [],
   "source": [
    "# 쓰기\n",
    "df.to_csv(\"sample2.csv\")"
   ]
  },
  {
   "cell_type": "code",
   "execution_count": 3,
   "id": "79d549e2-e5b8-481b-bb1a-1d4b2d3deb94",
   "metadata": {},
   "outputs": [
    {
     "name": "stdout",
     "output_type": "stream",
     "text": [
      "9\n"
     ]
    }
   ],
   "source": [
    "# 데이터 조작\n",
    "import numpy as np\n",
    "s=pd.Series(range(10))\n",
    "s[3] = np.nan\n",
    "print(s.count())   # nan을 제외한 카운트\n",
    "\n"
   ]
  },
  {
   "cell_type": "code",
   "execution_count": 59,
   "id": "4f4a7918-69c1-488d-8347-3aa3998c1b50",
   "metadata": {},
   "outputs": [
    {
     "name": "stdout",
     "output_type": "stream",
     "text": [
      "   0  1  2  3\n",
      "0  0  0  3  0\n",
      "1  1  2  1  1\n",
      "2  4  4  4  1\n",
      "3  0  0  2  2\n",
      "     0  1  2    3\n",
      "0  NaN  0  3  0.0\n",
      "1  1.0  2  1  1.0\n",
      "2  4.0  4  4  NaN\n",
      "3  0.0  0  2  2.0\n",
      "0    3\n",
      "1    4\n",
      "2    4\n",
      "3    3\n",
      "dtype: int64\n"
     ]
    }
   ],
   "source": [
    "df=pd.DataFrame(np.random.randint(5,size=(4,4)))\n",
    "print(df)\n",
    "df.iloc[0,0] = np.nan\n",
    "df.iloc[2,3] = np.nan\n",
    "print(df)\n",
    "print(df.count())    # 열의 데이터 개수. 근데 아래로 출력되서 헷갈림"
   ]
  },
  {
   "cell_type": "code",
   "execution_count": 65,
   "id": "6f3312da-d6ba-42d9-b165-0b6871285d5a",
   "metadata": {},
   "outputs": [
    {
     "name": "stdout",
     "output_type": "stream",
     "text": [
      "0    20\n",
      "1    19\n",
      "5    18\n",
      "4    18\n",
      "2    15\n",
      "3    10\n",
      "Name: count, dtype: int64\n"
     ]
    }
   ],
   "source": [
    "s2 = pd.Series(np.random.randint(6, size=100))\n",
    "print(s2.value_counts())   # 0~5까지 출연한(중복된) 횟수\n"
   ]
  },
  {
   "cell_type": "code",
   "execution_count": 6,
   "id": "9be61eea-47af-4a3e-9b58-be579896d662",
   "metadata": {},
   "outputs": [
    {
     "name": "stdout",
     "output_type": "stream",
     "text": [
      "    0   1   2   3   4   5   6   7\n",
      "0   0   1   2   3   4   5   6   7\n",
      "1   8   9  10  11  12  13  14  15\n",
      "2  16  17  18  19  20  21  22  23\n",
      "3  24  25  26  27  28  29  30  31\n",
      "--------------------------------\n",
      "    0   1   2   3   4   5   6   7  columnsum  rowsum\n",
      "0   0   1   2   3   4   5   6   7         48      76\n",
      "1   8   9  10  11  12  13  14  15         52     144\n",
      "2  16  17  18  19  20  21  22  23         56     212\n",
      "3  24  25  26  27  28  29  30  31         60     280\n"
     ]
    }
   ],
   "source": [
    "# 합계\n",
    "df = pd.DataFrame(np.arange(32).reshape(4,8))      # 4X8\n",
    "print(df)\n",
    "\n",
    "\n",
    "print(\"--------------------------------\")\n",
    "df['columnsum'  ] = df.sum(axis=0)\n",
    "df['rowsum'] = df.sum(axis=1)\n",
    "print(df)\n",
    "\n",
    "# print(df.sum(axis=0))    # 열에 있는 값들을 더한 것\n",
    "# print(df.sum(axis=1))    # 행에 있는 값들을 더한 것"
   ]
  }
 ],
 "metadata": {
  "kernelspec": {
   "display_name": "Python 3 (ipykernel)",
   "language": "python",
   "name": "python3"
  },
  "language_info": {
   "codemirror_mode": {
    "name": "ipython",
    "version": 3
   },
   "file_extension": ".py",
   "mimetype": "text/x-python",
   "name": "python",
   "nbconvert_exporter": "python",
   "pygments_lexer": "ipython3",
   "version": "3.11.7"
  }
 },
 "nbformat": 4,
 "nbformat_minor": 5
}
